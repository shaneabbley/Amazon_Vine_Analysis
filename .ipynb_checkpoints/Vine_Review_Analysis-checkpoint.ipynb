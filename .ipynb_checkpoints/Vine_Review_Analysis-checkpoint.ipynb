{
 "cells": [
  {
   "cell_type": "code",
   "execution_count": 26,
   "id": "e7129169",
   "metadata": {},
   "outputs": [],
   "source": [
    "import pandas as pd"
   ]
  },
  {
   "cell_type": "code",
   "execution_count": 27,
   "id": "e4a9142c",
   "metadata": {},
   "outputs": [
    {
     "data": {
      "text/html": [
       "<div>\n",
       "<style scoped>\n",
       "    .dataframe tbody tr th:only-of-type {\n",
       "        vertical-align: middle;\n",
       "    }\n",
       "\n",
       "    .dataframe tbody tr th {\n",
       "        vertical-align: top;\n",
       "    }\n",
       "\n",
       "    .dataframe thead th {\n",
       "        text-align: right;\n",
       "    }\n",
       "</style>\n",
       "<table border=\"1\" class=\"dataframe\">\n",
       "  <thead>\n",
       "    <tr style=\"text-align: right;\">\n",
       "      <th></th>\n",
       "      <th>Unnamed: 0</th>\n",
       "      <th>review_id</th>\n",
       "      <th>star_rating</th>\n",
       "      <th>helpful_votes</th>\n",
       "      <th>total_votes</th>\n",
       "      <th>vine</th>\n",
       "      <th>verified_purchase</th>\n",
       "    </tr>\n",
       "  </thead>\n",
       "  <tbody>\n",
       "    <tr>\n",
       "      <th>0</th>\n",
       "      <td>0</td>\n",
       "      <td>RMDCHWD0Y5OZ9</td>\n",
       "      <td>3.0</td>\n",
       "      <td>0.0</td>\n",
       "      <td>1.0</td>\n",
       "      <td>N</td>\n",
       "      <td>N</td>\n",
       "    </tr>\n",
       "    <tr>\n",
       "      <th>1</th>\n",
       "      <td>1</td>\n",
       "      <td>RZSL0BALIYUNU</td>\n",
       "      <td>5.0</td>\n",
       "      <td>0.0</td>\n",
       "      <td>0.0</td>\n",
       "      <td>N</td>\n",
       "      <td>Y</td>\n",
       "    </tr>\n",
       "    <tr>\n",
       "      <th>2</th>\n",
       "      <td>2</td>\n",
       "      <td>RIZR67JKUDBI0</td>\n",
       "      <td>3.0</td>\n",
       "      <td>0.0</td>\n",
       "      <td>1.0</td>\n",
       "      <td>N</td>\n",
       "      <td>Y</td>\n",
       "    </tr>\n",
       "    <tr>\n",
       "      <th>3</th>\n",
       "      <td>3</td>\n",
       "      <td>R27HL570VNL85F</td>\n",
       "      <td>5.0</td>\n",
       "      <td>0.0</td>\n",
       "      <td>0.0</td>\n",
       "      <td>N</td>\n",
       "      <td>Y</td>\n",
       "    </tr>\n",
       "    <tr>\n",
       "      <th>4</th>\n",
       "      <td>4</td>\n",
       "      <td>R34EBU9QDWJ1GD</td>\n",
       "      <td>5.0</td>\n",
       "      <td>0.0</td>\n",
       "      <td>0.0</td>\n",
       "      <td>N</td>\n",
       "      <td>Y</td>\n",
       "    </tr>\n",
       "  </tbody>\n",
       "</table>\n",
       "</div>"
      ],
      "text/plain": [
       "   Unnamed: 0       review_id  star_rating  helpful_votes  total_votes vine  \\\n",
       "0           0   RMDCHWD0Y5OZ9          3.0            0.0          1.0    N   \n",
       "1           1   RZSL0BALIYUNU          5.0            0.0          0.0    N   \n",
       "2           2   RIZR67JKUDBI0          3.0            0.0          1.0    N   \n",
       "3           3  R27HL570VNL85F          5.0            0.0          0.0    N   \n",
       "4           4  R34EBU9QDWJ1GD          5.0            0.0          0.0    N   \n",
       "\n",
       "  verified_purchase  \n",
       "0                 N  \n",
       "1                 Y  \n",
       "2                 Y  \n",
       "3                 Y  \n",
       "4                 Y  "
      ]
     },
     "execution_count": 27,
     "metadata": {},
     "output_type": "execute_result"
    }
   ],
   "source": [
    "# Import vine_table.csv\n",
    "df = pd.read_csv(\"vine_table.csv\")\n",
    "df.head()"
   ]
  },
  {
   "cell_type": "code",
   "execution_count": 28,
   "id": "1b588273",
   "metadata": {},
   "outputs": [
    {
     "data": {
      "text/html": [
       "<div>\n",
       "<style scoped>\n",
       "    .dataframe tbody tr th:only-of-type {\n",
       "        vertical-align: middle;\n",
       "    }\n",
       "\n",
       "    .dataframe tbody tr th {\n",
       "        vertical-align: top;\n",
       "    }\n",
       "\n",
       "    .dataframe thead th {\n",
       "        text-align: right;\n",
       "    }\n",
       "</style>\n",
       "<table border=\"1\" class=\"dataframe\">\n",
       "  <thead>\n",
       "    <tr style=\"text-align: right;\">\n",
       "      <th></th>\n",
       "      <th>Unnamed: 0</th>\n",
       "      <th>review_id</th>\n",
       "      <th>star_rating</th>\n",
       "      <th>helpful_votes</th>\n",
       "      <th>total_votes</th>\n",
       "      <th>vine</th>\n",
       "      <th>verified_purchase</th>\n",
       "    </tr>\n",
       "  </thead>\n",
       "  <tbody>\n",
       "    <tr>\n",
       "      <th>28</th>\n",
       "      <td>28</td>\n",
       "      <td>R2243Y3OD8U6KQ</td>\n",
       "      <td>5.0</td>\n",
       "      <td>47.0</td>\n",
       "      <td>61.0</td>\n",
       "      <td>N</td>\n",
       "      <td>N</td>\n",
       "    </tr>\n",
       "    <tr>\n",
       "      <th>85</th>\n",
       "      <td>85</td>\n",
       "      <td>R2TGT0CDTCAAHW</td>\n",
       "      <td>5.0</td>\n",
       "      <td>21.0</td>\n",
       "      <td>23.0</td>\n",
       "      <td>N</td>\n",
       "      <td>Y</td>\n",
       "    </tr>\n",
       "    <tr>\n",
       "      <th>457</th>\n",
       "      <td>457</td>\n",
       "      <td>RX4D22YSXEF4P</td>\n",
       "      <td>1.0</td>\n",
       "      <td>37.0</td>\n",
       "      <td>38.0</td>\n",
       "      <td>N</td>\n",
       "      <td>Y</td>\n",
       "    </tr>\n",
       "    <tr>\n",
       "      <th>1028</th>\n",
       "      <td>1028</td>\n",
       "      <td>R3FL2NTLFUSPTQ</td>\n",
       "      <td>5.0</td>\n",
       "      <td>33.0</td>\n",
       "      <td>37.0</td>\n",
       "      <td>N</td>\n",
       "      <td>N</td>\n",
       "    </tr>\n",
       "    <tr>\n",
       "      <th>1039</th>\n",
       "      <td>1039</td>\n",
       "      <td>R3QTP3YNZXAPPF</td>\n",
       "      <td>3.0</td>\n",
       "      <td>23.0</td>\n",
       "      <td>24.0</td>\n",
       "      <td>N</td>\n",
       "      <td>Y</td>\n",
       "    </tr>\n",
       "  </tbody>\n",
       "</table>\n",
       "</div>"
      ],
      "text/plain": [
       "      Unnamed: 0       review_id  star_rating  helpful_votes  total_votes  \\\n",
       "28            28  R2243Y3OD8U6KQ          5.0           47.0         61.0   \n",
       "85            85  R2TGT0CDTCAAHW          5.0           21.0         23.0   \n",
       "457          457   RX4D22YSXEF4P          1.0           37.0         38.0   \n",
       "1028        1028  R3FL2NTLFUSPTQ          5.0           33.0         37.0   \n",
       "1039        1039  R3QTP3YNZXAPPF          3.0           23.0         24.0   \n",
       "\n",
       "     vine verified_purchase  \n",
       "28      N                 N  \n",
       "85      N                 Y  \n",
       "457     N                 Y  \n",
       "1028    N                 N  \n",
       "1039    N                 Y  "
      ]
     },
     "execution_count": 28,
     "metadata": {},
     "output_type": "execute_result"
    }
   ],
   "source": [
    "# Filter vote count\n",
    "better_df = df[df['total_votes'] > 20.0] \n",
    "better_df.head()"
   ]
  },
  {
   "cell_type": "code",
   "execution_count": 29,
   "id": "084f8f38",
   "metadata": {},
   "outputs": [
    {
     "data": {
      "text/html": [
       "<div>\n",
       "<style scoped>\n",
       "    .dataframe tbody tr th:only-of-type {\n",
       "        vertical-align: middle;\n",
       "    }\n",
       "\n",
       "    .dataframe tbody tr th {\n",
       "        vertical-align: top;\n",
       "    }\n",
       "\n",
       "    .dataframe thead th {\n",
       "        text-align: right;\n",
       "    }\n",
       "</style>\n",
       "<table border=\"1\" class=\"dataframe\">\n",
       "  <thead>\n",
       "    <tr style=\"text-align: right;\">\n",
       "      <th></th>\n",
       "      <th>Unnamed: 0</th>\n",
       "      <th>review_id</th>\n",
       "      <th>star_rating</th>\n",
       "      <th>helpful_votes</th>\n",
       "      <th>total_votes</th>\n",
       "      <th>vine</th>\n",
       "      <th>verified_purchase</th>\n",
       "    </tr>\n",
       "  </thead>\n",
       "  <tbody>\n",
       "    <tr>\n",
       "      <th>28</th>\n",
       "      <td>28</td>\n",
       "      <td>R2243Y3OD8U6KQ</td>\n",
       "      <td>5.0</td>\n",
       "      <td>47.0</td>\n",
       "      <td>61.0</td>\n",
       "      <td>N</td>\n",
       "      <td>N</td>\n",
       "    </tr>\n",
       "    <tr>\n",
       "      <th>85</th>\n",
       "      <td>85</td>\n",
       "      <td>R2TGT0CDTCAAHW</td>\n",
       "      <td>5.0</td>\n",
       "      <td>21.0</td>\n",
       "      <td>23.0</td>\n",
       "      <td>N</td>\n",
       "      <td>Y</td>\n",
       "    </tr>\n",
       "    <tr>\n",
       "      <th>457</th>\n",
       "      <td>457</td>\n",
       "      <td>RX4D22YSXEF4P</td>\n",
       "      <td>1.0</td>\n",
       "      <td>37.0</td>\n",
       "      <td>38.0</td>\n",
       "      <td>N</td>\n",
       "      <td>Y</td>\n",
       "    </tr>\n",
       "    <tr>\n",
       "      <th>1028</th>\n",
       "      <td>1028</td>\n",
       "      <td>R3FL2NTLFUSPTQ</td>\n",
       "      <td>5.0</td>\n",
       "      <td>33.0</td>\n",
       "      <td>37.0</td>\n",
       "      <td>N</td>\n",
       "      <td>N</td>\n",
       "    </tr>\n",
       "    <tr>\n",
       "      <th>1039</th>\n",
       "      <td>1039</td>\n",
       "      <td>R3QTP3YNZXAPPF</td>\n",
       "      <td>3.0</td>\n",
       "      <td>23.0</td>\n",
       "      <td>24.0</td>\n",
       "      <td>N</td>\n",
       "      <td>Y</td>\n",
       "    </tr>\n",
       "  </tbody>\n",
       "</table>\n",
       "</div>"
      ],
      "text/plain": [
       "      Unnamed: 0       review_id  star_rating  helpful_votes  total_votes  \\\n",
       "28            28  R2243Y3OD8U6KQ          5.0           47.0         61.0   \n",
       "85            85  R2TGT0CDTCAAHW          5.0           21.0         23.0   \n",
       "457          457   RX4D22YSXEF4P          1.0           37.0         38.0   \n",
       "1028        1028  R3FL2NTLFUSPTQ          5.0           33.0         37.0   \n",
       "1039        1039  R3QTP3YNZXAPPF          3.0           23.0         24.0   \n",
       "\n",
       "     vine verified_purchase  \n",
       "28      N                 N  \n",
       "85      N                 Y  \n",
       "457     N                 Y  \n",
       "1028    N                 N  \n",
       "1039    N                 Y  "
      ]
     },
     "execution_count": 29,
     "metadata": {},
     "output_type": "execute_result"
    }
   ],
   "source": [
    "# Filter again using helpful votes\n",
    "helpful_df = better_df[better_df['helpful_votes']/df2['total_votes']>= 0.5]\n",
    "helpful_df.head()"
   ]
  },
  {
   "cell_type": "code",
   "execution_count": 30,
   "id": "218800f3",
   "metadata": {},
   "outputs": [
    {
     "data": {
      "text/html": [
       "<div>\n",
       "<style scoped>\n",
       "    .dataframe tbody tr th:only-of-type {\n",
       "        vertical-align: middle;\n",
       "    }\n",
       "\n",
       "    .dataframe tbody tr th {\n",
       "        vertical-align: top;\n",
       "    }\n",
       "\n",
       "    .dataframe thead th {\n",
       "        text-align: right;\n",
       "    }\n",
       "</style>\n",
       "<table border=\"1\" class=\"dataframe\">\n",
       "  <thead>\n",
       "    <tr style=\"text-align: right;\">\n",
       "      <th></th>\n",
       "      <th>Unnamed: 0</th>\n",
       "      <th>review_id</th>\n",
       "      <th>star_rating</th>\n",
       "      <th>helpful_votes</th>\n",
       "      <th>total_votes</th>\n",
       "      <th>vine</th>\n",
       "      <th>verified_purchase</th>\n",
       "    </tr>\n",
       "  </thead>\n",
       "  <tbody>\n",
       "    <tr>\n",
       "      <th>85</th>\n",
       "      <td>85</td>\n",
       "      <td>R2TGT0CDTCAAHW</td>\n",
       "      <td>5.0</td>\n",
       "      <td>21.0</td>\n",
       "      <td>23.0</td>\n",
       "      <td>N</td>\n",
       "      <td>Y</td>\n",
       "    </tr>\n",
       "    <tr>\n",
       "      <th>457</th>\n",
       "      <td>457</td>\n",
       "      <td>RX4D22YSXEF4P</td>\n",
       "      <td>1.0</td>\n",
       "      <td>37.0</td>\n",
       "      <td>38.0</td>\n",
       "      <td>N</td>\n",
       "      <td>Y</td>\n",
       "    </tr>\n",
       "    <tr>\n",
       "      <th>1039</th>\n",
       "      <td>1039</td>\n",
       "      <td>R3QTP3YNZXAPPF</td>\n",
       "      <td>3.0</td>\n",
       "      <td>23.0</td>\n",
       "      <td>24.0</td>\n",
       "      <td>N</td>\n",
       "      <td>Y</td>\n",
       "    </tr>\n",
       "    <tr>\n",
       "      <th>1140</th>\n",
       "      <td>1140</td>\n",
       "      <td>R36V6V42VN5AS5</td>\n",
       "      <td>5.0</td>\n",
       "      <td>34.0</td>\n",
       "      <td>37.0</td>\n",
       "      <td>N</td>\n",
       "      <td>Y</td>\n",
       "    </tr>\n",
       "    <tr>\n",
       "      <th>2261</th>\n",
       "      <td>2261</td>\n",
       "      <td>R1P7GJ0IN2BRNH</td>\n",
       "      <td>5.0</td>\n",
       "      <td>37.0</td>\n",
       "      <td>37.0</td>\n",
       "      <td>N</td>\n",
       "      <td>Y</td>\n",
       "    </tr>\n",
       "  </tbody>\n",
       "</table>\n",
       "</div>"
      ],
      "text/plain": [
       "      Unnamed: 0       review_id  star_rating  helpful_votes  total_votes  \\\n",
       "85            85  R2TGT0CDTCAAHW          5.0           21.0         23.0   \n",
       "457          457   RX4D22YSXEF4P          1.0           37.0         38.0   \n",
       "1039        1039  R3QTP3YNZXAPPF          3.0           23.0         24.0   \n",
       "1140        1140  R36V6V42VN5AS5          5.0           34.0         37.0   \n",
       "2261        2261  R1P7GJ0IN2BRNH          5.0           37.0         37.0   \n",
       "\n",
       "     vine verified_purchase  \n",
       "85      N                 Y  \n",
       "457     N                 Y  \n",
       "1039    N                 Y  \n",
       "1140    N                 Y  \n",
       "2261    N                 Y  "
      ]
     },
     "execution_count": 30,
     "metadata": {},
     "output_type": "execute_result"
    }
   ],
   "source": [
    "# Filter by paid purchase\n",
    "paid_df = helpful_df[helpful_df['verified_purchase']=='Y']\n",
    "paid_df.head()"
   ]
  },
  {
   "cell_type": "code",
   "execution_count": 32,
   "id": "32079cb0",
   "metadata": {},
   "outputs": [
    {
     "data": {
      "text/html": [
       "<div>\n",
       "<style scoped>\n",
       "    .dataframe tbody tr th:only-of-type {\n",
       "        vertical-align: middle;\n",
       "    }\n",
       "\n",
       "    .dataframe tbody tr th {\n",
       "        vertical-align: top;\n",
       "    }\n",
       "\n",
       "    .dataframe thead th {\n",
       "        text-align: right;\n",
       "    }\n",
       "</style>\n",
       "<table border=\"1\" class=\"dataframe\">\n",
       "  <thead>\n",
       "    <tr style=\"text-align: right;\">\n",
       "      <th></th>\n",
       "      <th>Unnamed: 0</th>\n",
       "      <th>review_id</th>\n",
       "      <th>star_rating</th>\n",
       "      <th>helpful_votes</th>\n",
       "      <th>total_votes</th>\n",
       "      <th>vine</th>\n",
       "      <th>verified_purchase</th>\n",
       "    </tr>\n",
       "  </thead>\n",
       "  <tbody>\n",
       "    <tr>\n",
       "      <th>28</th>\n",
       "      <td>28</td>\n",
       "      <td>R2243Y3OD8U6KQ</td>\n",
       "      <td>5.0</td>\n",
       "      <td>47.0</td>\n",
       "      <td>61.0</td>\n",
       "      <td>N</td>\n",
       "      <td>N</td>\n",
       "    </tr>\n",
       "    <tr>\n",
       "      <th>1028</th>\n",
       "      <td>1028</td>\n",
       "      <td>R3FL2NTLFUSPTQ</td>\n",
       "      <td>5.0</td>\n",
       "      <td>33.0</td>\n",
       "      <td>37.0</td>\n",
       "      <td>N</td>\n",
       "      <td>N</td>\n",
       "    </tr>\n",
       "    <tr>\n",
       "      <th>1646</th>\n",
       "      <td>1646</td>\n",
       "      <td>R27LZWE27BJPOB</td>\n",
       "      <td>5.0</td>\n",
       "      <td>22.0</td>\n",
       "      <td>23.0</td>\n",
       "      <td>N</td>\n",
       "      <td>N</td>\n",
       "    </tr>\n",
       "    <tr>\n",
       "      <th>3333</th>\n",
       "      <td>3333</td>\n",
       "      <td>RFL3TJED8C240</td>\n",
       "      <td>5.0</td>\n",
       "      <td>13.0</td>\n",
       "      <td>24.0</td>\n",
       "      <td>N</td>\n",
       "      <td>N</td>\n",
       "    </tr>\n",
       "    <tr>\n",
       "      <th>3768</th>\n",
       "      <td>3768</td>\n",
       "      <td>R3JNDLZ3KACRLG</td>\n",
       "      <td>5.0</td>\n",
       "      <td>29.0</td>\n",
       "      <td>33.0</td>\n",
       "      <td>N</td>\n",
       "      <td>N</td>\n",
       "    </tr>\n",
       "  </tbody>\n",
       "</table>\n",
       "</div>"
      ],
      "text/plain": [
       "      Unnamed: 0       review_id  star_rating  helpful_votes  total_votes  \\\n",
       "28            28  R2243Y3OD8U6KQ          5.0           47.0         61.0   \n",
       "1028        1028  R3FL2NTLFUSPTQ          5.0           33.0         37.0   \n",
       "1646        1646  R27LZWE27BJPOB          5.0           22.0         23.0   \n",
       "3333        3333   RFL3TJED8C240          5.0           13.0         24.0   \n",
       "3768        3768  R3JNDLZ3KACRLG          5.0           29.0         33.0   \n",
       "\n",
       "     vine verified_purchase  \n",
       "28      N                 N  \n",
       "1028    N                 N  \n",
       "1646    N                 N  \n",
       "3333    N                 N  \n",
       "3768    N                 N  "
      ]
     },
     "execution_count": 32,
     "metadata": {},
     "output_type": "execute_result"
    }
   ],
   "source": [
    "# Filter for unpaid purchase\n",
    "unpaid_df = helpful_df[helpful_df['verified_purchase']=='N']\n",
    "unpaid_df.head()"
   ]
  },
  {
   "cell_type": "code",
   "execution_count": 42,
   "id": "0377aabc",
   "metadata": {},
   "outputs": [
    {
     "data": {
      "text/plain": [
       "8016"
      ]
     },
     "execution_count": 42,
     "metadata": {},
     "output_type": "execute_result"
    }
   ],
   "source": [
    "# Number of reviews for verified purchases\n",
    "reviews_paid = len(paid_df)\n",
    "reviews_paid"
   ]
  },
  {
   "cell_type": "code",
   "execution_count": 43,
   "id": "0d1b355e",
   "metadata": {},
   "outputs": [
    {
     "data": {
      "text/plain": [
       "4609"
      ]
     },
     "execution_count": 43,
     "metadata": {},
     "output_type": "execute_result"
    }
   ],
   "source": [
    "# Number of 5 star reviews for verified purchases\n",
    "five_star_paid = sum(paid_df.star_rating==5.0)\n",
    "five_star_paid"
   ]
  },
  {
   "cell_type": "code",
   "execution_count": 45,
   "id": "d2d72666",
   "metadata": {},
   "outputs": [
    {
     "data": {
      "text/plain": [
       "57.49750499001996"
      ]
     },
     "execution_count": 45,
     "metadata": {},
     "output_type": "execute_result"
    }
   ],
   "source": [
    "# Percentage of 5 star reviews for verified purchases\n",
    "percentage_five_star_paid = five_star_paid/reviews_paid * 100\n",
    "percentage_five_star_paid"
   ]
  },
  {
   "cell_type": "code",
   "execution_count": 46,
   "id": "df15e825",
   "metadata": {},
   "outputs": [
    {
     "data": {
      "text/plain": [
       "5523"
      ]
     },
     "execution_count": 46,
     "metadata": {},
     "output_type": "execute_result"
    }
   ],
   "source": [
    "# Number of reviews for unverified purchases\n",
    "reviews_unpaid = len(unpaid_df)\n",
    "reviews_unpaid"
   ]
  },
  {
   "cell_type": "code",
   "execution_count": 47,
   "id": "2f81f88a",
   "metadata": {},
   "outputs": [
    {
     "data": {
      "text/plain": [
       "3103"
      ]
     },
     "execution_count": 47,
     "metadata": {},
     "output_type": "execute_result"
    }
   ],
   "source": [
    "# Number of 5 star reviews for unverified purchases\n",
    "five_star_unpaid = sum(unpaid_df.star_rating==5.0)\n",
    "five_star_unpaid"
   ]
  },
  {
   "cell_type": "code",
   "execution_count": 48,
   "id": "d7961e9d",
   "metadata": {},
   "outputs": [
    {
     "data": {
      "text/plain": [
       "56.18323374977368"
      ]
     },
     "execution_count": 48,
     "metadata": {},
     "output_type": "execute_result"
    }
   ],
   "source": [
    "# Percentage of 5 star reviews for unverified purchases\n",
    "percentage_five_star_unpaid = five_star_unpaid/reviews_unpaid * 100\n",
    "percentage_five_star_unpaid"
   ]
  },
  {
   "cell_type": "code",
   "execution_count": null,
   "id": "866effc4",
   "metadata": {},
   "outputs": [],
   "source": []
  }
 ],
 "metadata": {
  "kernelspec": {
   "display_name": "PythonData",
   "language": "python",
   "name": "pythondata"
  },
  "language_info": {
   "codemirror_mode": {
    "name": "ipython",
    "version": 3
   },
   "file_extension": ".py",
   "mimetype": "text/x-python",
   "name": "python",
   "nbconvert_exporter": "python",
   "pygments_lexer": "ipython3",
   "version": "3.9.7"
  }
 },
 "nbformat": 4,
 "nbformat_minor": 5
}
